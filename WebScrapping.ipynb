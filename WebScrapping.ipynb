{
 "cells": [
  {
   "cell_type": "code",
   "execution_count": 2,
   "id": "ca40bc3f-a2f8-4737-9f3c-14a220d51647",
   "metadata": {},
   "outputs": [],
   "source": [
    "import requests\n",
    "from bs4 import BeautifulSoup as bs\n",
    "from urllib.request import urlopen \n",
    "import logging"
   ]
  },
  {
   "cell_type": "code",
   "execution_count": 3,
   "id": "6c810e6a-9e3a-4e81-b0df-f87fe780d5dc",
   "metadata": {},
   "outputs": [],
   "source": [
    "flipcart_url = \"https://www.flipkart.com/search?q=\" + \"iphone+12pro\""
   ]
  },
  {
   "cell_type": "code",
   "execution_count": 4,
   "id": "816ca126-b2f9-4855-b5b2-9952d3bbe115",
   "metadata": {},
   "outputs": [
    {
     "data": {
      "text/plain": [
       "'https://www.flipkart.com/search?q=iphone+12pro'"
      ]
     },
     "execution_count": 4,
     "metadata": {},
     "output_type": "execute_result"
    }
   ],
   "source": [
    "flipcart_url"
   ]
  },
  {
   "cell_type": "code",
   "execution_count": 5,
   "id": "a8c0b2df-2293-4d29-b9c6-805b4f26e8bd",
   "metadata": {},
   "outputs": [],
   "source": [
    "urlclient = urlopen(flipcart_url)"
   ]
  },
  {
   "cell_type": "code",
   "execution_count": 6,
   "id": "3844a2c4-fd76-4073-8011-5c68e762737b",
   "metadata": {},
   "outputs": [],
   "source": [
    "flipcart_page = urlclient.read()"
   ]
  },
  {
   "cell_type": "code",
   "execution_count": 7,
   "id": "c3ddff79-335b-41c4-a283-b62f7f87fe4b",
   "metadata": {},
   "outputs": [],
   "source": [
    "flipcart_html = bs(flipcart_page, 'html.parser')"
   ]
  },
  {
   "cell_type": "code",
   "execution_count": 8,
   "id": "cb76d962-692d-425d-8a3a-3d7b366c001e",
   "metadata": {},
   "outputs": [
    {
     "data": {
      "text/plain": [
       "'https://www.flipkart.com/apple-iphone-12-pro-gold-128-gb/p/itma14a108237af5?pid=MOBFWBYZMDJZMHA9&amp;lid=LSTMOBFWBYZMDJZMHA9SVNUXV&amp;marketplace=FLIPKART&amp;q=iphone+12+pro&amp;store=tyy%2F4io&amp;srno=s_1_4&amp;otracker=AS_QueryStore_OrganicAutoSuggest_1_9_na_na_na&amp;otracker1=AS_QueryStore_OrganicAutoSuggest_1_9_na_na_na&amp;fm=organic&amp;iid=14fc7373-2c51-4f4b-b60f-3c498d8b16f1.MOBFWBYZMDJZMHA9.SEARCH&amp;ppt=hp&amp;ppn=homepage&amp;ssid=lm18m4stls0000001677515044045&amp;qH=8b8a097744d4c19d'"
      ]
     },
     "execution_count": 8,
     "metadata": {},
     "output_type": "execute_result"
    }
   ],
   "source": [
    "\"https://www.flipkart.com/\" + \"apple-iphone-12-pro-gold-128-gb/p/itma14a108237af5?pid=MOBFWBYZMDJZMHA9&amp;lid=LSTMOBFWBYZMDJZMHA9SVNUXV&amp;marketplace=FLIPKART&amp;q=iphone+12+pro&amp;store=tyy%2F4io&amp;srno=s_1_4&amp;otracker=AS_QueryStore_OrganicAutoSuggest_1_9_na_na_na&amp;otracker1=AS_QueryStore_OrganicAutoSuggest_1_9_na_na_na&amp;fm=organic&amp;iid=14fc7373-2c51-4f4b-b60f-3c498d8b16f1.MOBFWBYZMDJZMHA9.SEARCH&amp;ppt=hp&amp;ppn=homepage&amp;ssid=lm18m4stls0000001677515044045&amp;qH=8b8a097744d4c19d\""
   ]
  },
  {
   "cell_type": "code",
   "execution_count": 9,
   "id": "55003768-74d7-471a-aeaf-54e7e011331e",
   "metadata": {},
   "outputs": [],
   "source": [
    "bigbox = flipcart_html.findAll(\"div\",{\"class\":\"_1AtVbE col-12-12\"})"
   ]
  },
  {
   "cell_type": "code",
   "execution_count": 10,
   "id": "c1241b30-d53f-4dcb-90c0-3183683ee64b",
   "metadata": {},
   "outputs": [
    {
     "data": {
      "text/plain": [
       "29"
      ]
     },
     "execution_count": 10,
     "metadata": {},
     "output_type": "execute_result"
    }
   ],
   "source": [
    "len(bigbox)"
   ]
  },
  {
   "cell_type": "code",
   "execution_count": 11,
   "id": "21c14993-9984-4644-9783-f0fbb23842e6",
   "metadata": {},
   "outputs": [],
   "source": [
    "del bigbox[0:3]"
   ]
  },
  {
   "cell_type": "code",
   "execution_count": 12,
   "id": "88d92a54-e3e8-40ef-b4af-0434aaec8348",
   "metadata": {},
   "outputs": [],
   "source": [
    "product_link = \"https://www.flipkart.com\" + bigbox[3].div.div.div.a['href']"
   ]
  },
  {
   "cell_type": "code",
   "execution_count": 24,
   "id": "773259cb-823d-4f9f-892d-e85426296473",
   "metadata": {},
   "outputs": [],
   "source": [
    "product_req = requests.get(productlink)"
   ]
  },
  {
   "cell_type": "code",
   "execution_count": 25,
   "id": "b49d51b4-c53f-4826-9417-dbf22f1d482f",
   "metadata": {},
   "outputs": [
    {
     "data": {
      "text/plain": [
       "'https://www.flipkart.com/apple-iphone-12-pro-gold-128-gb/p/itma14a108237af5?pid=MOBFWBYZMDJZMHA9&lid=LSTMOBFWBYZMDJZMHA9SVNUXV&marketplace=FLIPKART&q=iphone+12pro&store=tyy%2F4io&srno=s_1_5&otracker=search&fm=organic&iid=c5e5de81-6d29-4967-b36f-46da44da0752.MOBFWBYZMDJZMHA9.SEARCH&ppt=None&ppn=None&ssid=d8v96mzvbk0000001677527007385&qH=6685b1477b767c4b'"
      ]
     },
     "execution_count": 25,
     "metadata": {},
     "output_type": "execute_result"
    }
   ],
   "source": [
    "productlink"
   ]
  },
  {
   "cell_type": "code",
   "execution_count": 27,
   "id": "74b9dd6c-c61d-434b-9f7a-21d833e62082",
   "metadata": {},
   "outputs": [],
   "source": [
    "product_html = bs(product_req.text,'html.parser')"
   ]
  },
  {
   "cell_type": "code",
   "execution_count": 32,
   "id": "dd16c474-1472-4ad8-9f97-078bf49ee7df",
   "metadata": {},
   "outputs": [],
   "source": [
    "comment_box = product_html.find_all(\"div\",{\"class\":\"_16PBlm\"})"
   ]
  },
  {
   "cell_type": "code",
   "execution_count": 33,
   "id": "3e0cad92-e3fa-433d-8808-3dda7079462c",
   "metadata": {},
   "outputs": [
    {
     "data": {
      "text/plain": [
       "11"
      ]
     },
     "execution_count": 33,
     "metadata": {},
     "output_type": "execute_result"
    }
   ],
   "source": [
    "len(comment_box)"
   ]
  },
  {
   "cell_type": "code",
   "execution_count": 44,
   "id": "514dda62-9ac0-47a6-9b0a-0b7b51254e66",
   "metadata": {},
   "outputs": [
    {
     "name": "stdout",
     "output_type": "stream",
     "text": [
      "Vinit Kar\n",
      "Rahul  Meena\n",
      "Nami Hathishah\n",
      "Rajesh Jena\n",
      "Lee Phela\n",
      "Rajkumar tiwari\n",
      "Kirti Yadav\n",
      "Tushar Saini\n",
      "Aasheesh Vats\n",
      "Salman Rahman\n"
     ]
    },
    {
     "ename": "AttributeError",
     "evalue": "'NoneType' object has no attribute 'div'",
     "output_type": "error",
     "traceback": [
      "\u001b[0;31m---------------------------------------------------------------------------\u001b[0m",
      "\u001b[0;31mAttributeError\u001b[0m                            Traceback (most recent call last)",
      "Cell \u001b[0;32mIn[44], line 2\u001b[0m\n\u001b[1;32m      1\u001b[0m \u001b[38;5;28;01mfor\u001b[39;00m i \u001b[38;5;129;01min\u001b[39;00m comment_box:\n\u001b[0;32m----> 2\u001b[0m     \u001b[38;5;28mprint\u001b[39m(\u001b[43mi\u001b[49m\u001b[38;5;241;43m.\u001b[39;49m\u001b[43mdiv\u001b[49m\u001b[38;5;241;43m.\u001b[39;49m\u001b[43mdiv\u001b[49m\u001b[38;5;241m.\u001b[39mfind_all(\u001b[38;5;124m'\u001b[39m\u001b[38;5;124mp\u001b[39m\u001b[38;5;124m'\u001b[39m,{\u001b[38;5;124m\"\u001b[39m\u001b[38;5;124mclass\u001b[39m\u001b[38;5;124m\"\u001b[39m:\u001b[38;5;124m\"\u001b[39m\u001b[38;5;124m_2sc7ZR _2V5EHH\u001b[39m\u001b[38;5;124m\"\u001b[39m})[\u001b[38;5;241m0\u001b[39m]\u001b[38;5;241m.\u001b[39mtext)\n",
      "\u001b[0;31mAttributeError\u001b[0m: 'NoneType' object has no attribute 'div'"
     ]
    }
   ],
   "source": [
    "for i in comment_box:\n",
    "    print(i.div.div.find_all('p',{\"class\":\"_2sc7ZR _2V5EHH\"})[0].text)"
   ]
  },
  {
   "cell_type": "code",
   "execution_count": 45,
   "id": "294ddb4b-822d-461d-9c01-6a8708846021",
   "metadata": {},
   "outputs": [
    {
     "name": "stdout",
     "output_type": "stream",
     "text": [
      "5\n",
      "5\n",
      "5\n",
      "5\n",
      "5\n",
      "5\n",
      "3\n",
      "5\n",
      "5\n",
      "5\n"
     ]
    },
    {
     "ename": "AttributeError",
     "evalue": "'NoneType' object has no attribute 'div'",
     "output_type": "error",
     "traceback": [
      "\u001b[0;31m---------------------------------------------------------------------------\u001b[0m",
      "\u001b[0;31mAttributeError\u001b[0m                            Traceback (most recent call last)",
      "Cell \u001b[0;32mIn[45], line 2\u001b[0m\n\u001b[1;32m      1\u001b[0m \u001b[38;5;28;01mfor\u001b[39;00m i \u001b[38;5;129;01min\u001b[39;00m comment_box:\n\u001b[0;32m----> 2\u001b[0m     \u001b[38;5;28mprint\u001b[39m(\u001b[43mi\u001b[49m\u001b[38;5;241;43m.\u001b[39;49m\u001b[43mdiv\u001b[49m\u001b[38;5;241;43m.\u001b[39;49m\u001b[43mdiv\u001b[49m\u001b[38;5;241m.\u001b[39mdiv\u001b[38;5;241m.\u001b[39mdiv\u001b[38;5;241m.\u001b[39mtext)\n",
      "\u001b[0;31mAttributeError\u001b[0m: 'NoneType' object has no attribute 'div'"
     ]
    }
   ],
   "source": [
    "for i in comment_box:\n",
    "    print(i.div.div.div.div.text)"
   ]
  },
  {
   "cell_type": "code",
   "execution_count": 46,
   "id": "38c4f1e5-87a8-4006-abd6-8996d696210e",
   "metadata": {},
   "outputs": [
    {
     "name": "stdout",
     "output_type": "stream",
     "text": [
      "Best in the market!\n",
      "Highly recommended\n",
      "Super!\n",
      "Brilliant\n",
      "Awesome\n",
      "Simply awesome\n",
      "Nice\n",
      "Fabulous!\n",
      "Fabulous!\n",
      "Fabulous!\n"
     ]
    },
    {
     "ename": "AttributeError",
     "evalue": "'NoneType' object has no attribute 'div'",
     "output_type": "error",
     "traceback": [
      "\u001b[0;31m---------------------------------------------------------------------------\u001b[0m",
      "\u001b[0;31mAttributeError\u001b[0m                            Traceback (most recent call last)",
      "Cell \u001b[0;32mIn[46], line 2\u001b[0m\n\u001b[1;32m      1\u001b[0m \u001b[38;5;28;01mfor\u001b[39;00m i \u001b[38;5;129;01min\u001b[39;00m comment_box:\n\u001b[0;32m----> 2\u001b[0m     \u001b[38;5;28mprint\u001b[39m(\u001b[43mi\u001b[49m\u001b[38;5;241;43m.\u001b[39;49m\u001b[43mdiv\u001b[49m\u001b[38;5;241;43m.\u001b[39;49m\u001b[43mdiv\u001b[49m\u001b[38;5;241m.\u001b[39mdiv\u001b[38;5;241m.\u001b[39mp\u001b[38;5;241m.\u001b[39mtext)\n",
      "\u001b[0;31mAttributeError\u001b[0m: 'NoneType' object has no attribute 'div'"
     ]
    }
   ],
   "source": [
    "for i in comment_box:\n",
    "    print(i.div.div.div.p.text)"
   ]
  },
  {
   "cell_type": "code",
   "execution_count": 51,
   "id": "c04d608e-ab27-4a3d-b190-4091e8a6837a",
   "metadata": {},
   "outputs": [
    {
     "name": "stdout",
     "output_type": "stream",
     "text": [
      "I have been using iPhones for years, but the fast charging and battery on this one is brilliant. Like i always say, iPhone is more of a jewellery than a phone. But this one has some power-packed features and an awesome camera. So if you can afford it, buy it!\n",
      "I like the most in this phone:-1. I like the size of this phone because it is easy to hold.2. The camera quality of this phone is admirable. 3. Battery backup is good.4. The new design and colour  of this phone also a plus point of its beauty.5. These  points are my personal which i like most in this phone.\n",
      "One of the best looking phone in the market right now with a decent performance jump from 11 pro. Camera is excellent and the display is quite responsive and sharp. Only issue is it does not have a higher refresh rate and the battery life is average.\n",
      "I have upgraded from Android to iOS for the first time with the IPhone 12 Pro. And the experience is very much satisfactory. The new A14 bionic processor is very fast. The boxy design is what I liked the most. The camera and display are top notch. Night mode photography is excellent. Worth upgrading from Android to iOS .\n",
      "Awesome!Just made an upgrade from X, worth every single penny spent on it, the camera is just too superb, be it the selfie cam or the main rear cam, the goodness it takes the picture is just beyond words, no smart phone can beat it atm! However, the battery life tends to be on the shorter side, that’s the only con that I can’t think up of now,\n",
      "indeed a great phone feels premium in hand but battery life is low\n",
      "Its just Perfect . Prices are a bit high .\n",
      "The camera is mind-blowing I love it 😘\n",
      "A masterpiece to cherish.\n",
      "This one of the best iPhone ever built, though battery backup isn’t good. But the user experience is brilliant.Upgraded from 11 Pro.\n"
     ]
    },
    {
     "ename": "AttributeError",
     "evalue": "'NoneType' object has no attribute 'div'",
     "output_type": "error",
     "traceback": [
      "\u001b[0;31m---------------------------------------------------------------------------\u001b[0m",
      "\u001b[0;31mAttributeError\u001b[0m                            Traceback (most recent call last)",
      "Cell \u001b[0;32mIn[51], line 2\u001b[0m\n\u001b[1;32m      1\u001b[0m \u001b[38;5;28;01mfor\u001b[39;00m i \u001b[38;5;129;01min\u001b[39;00m comment_box:\n\u001b[0;32m----> 2\u001b[0m     \u001b[38;5;28mprint\u001b[39m(\u001b[43mi\u001b[49m\u001b[38;5;241;43m.\u001b[39;49m\u001b[43mdiv\u001b[49m\u001b[38;5;241;43m.\u001b[39;49m\u001b[43mdiv\u001b[49m\u001b[38;5;241m.\u001b[39mfind_all(\u001b[38;5;124m'\u001b[39m\u001b[38;5;124mdiv\u001b[39m\u001b[38;5;124m'\u001b[39m,{\u001b[38;5;124m\"\u001b[39m\u001b[38;5;124mclass\u001b[39m\u001b[38;5;124m\"\u001b[39m:\u001b[38;5;124m'\u001b[39m\u001b[38;5;124m'\u001b[39m})[\u001b[38;5;241m0\u001b[39m]\u001b[38;5;241m.\u001b[39mdiv\u001b[38;5;241m.\u001b[39mtext)\n",
      "\u001b[0;31mAttributeError\u001b[0m: 'NoneType' object has no attribute 'div'"
     ]
    }
   ],
   "source": [
    "for i in comment_box:\n",
    "    print(i.div.div.find_all('div',{\"class\":''})[0].div.text)"
   ]
  },
  {
   "cell_type": "code",
   "execution_count": null,
   "id": "fe08e860-d03b-483f-bf6b-d6b5ecedee94",
   "metadata": {},
   "outputs": [],
   "source": []
  },
  {
   "cell_type": "code",
   "execution_count": 44,
   "id": "dacc2f83-4181-4323-8dad-812f4187bc39",
   "metadata": {},
   "outputs": [
    {
     "name": "stdout",
     "output_type": "stream",
     "text": [
      "https://www.flipkart.com/apple-iphone-12-pro-gold-512-gb/p/itm157b3be191fd1?pid=MOBFWBYZGKFYVTWH&lid=LSTMOBFWBYZGKFYVTWHR65UKC&marketplace=FLIPKART&q=iphone+12pro&store=tyy%2F4io&srno=s_1_2&otracker=search&fm=organic&iid=a45a0d4f-ddf1-462e-a6b6-fc148d41bd51.MOBFWBYZGKFYVTWH.SEARCH&ppt=None&ppn=None&ssid=rtgjzd0cg00000001677516080686&qH=6685b1477b767c4b\n",
      "https://www.flipkart.com/apple-iphone-12-pro-silver-512-gb/p/itm0ccf9fc219a71?pid=MOBFWBYZ5UY6ZBVA&lid=LSTMOBFWBYZ5UY6ZBVASXARTV&marketplace=FLIPKART&q=iphone+12pro&store=tyy%2F4io&srno=s_1_3&otracker=search&fm=organic&iid=a45a0d4f-ddf1-462e-a6b6-fc148d41bd51.MOBFWBYZ5UY6ZBVA.SEARCH&ppt=None&ppn=None&ssid=rtgjzd0cg00000001677516080686&qH=6685b1477b767c4b\n",
      "https://www.flipkart.com/apple-iphone-12-pro-gold-128-gb/p/itma14a108237af5?pid=MOBFWBYZMDJZMHA9&lid=LSTMOBFWBYZMDJZMHA9SVNUXV&marketplace=FLIPKART&q=iphone+12pro&store=tyy%2F4io&srno=s_1_4&otracker=search&fm=organic&iid=a45a0d4f-ddf1-462e-a6b6-fc148d41bd51.MOBFWBYZMDJZMHA9.SEARCH&ppt=None&ppn=None&ssid=rtgjzd0cg00000001677516080686&qH=6685b1477b767c4b\n",
      "https://www.flipkart.com/apple-iphone-12-pro-pacific-blue-128-gb/p/itm97c833296c221?pid=MOBFWBYZXYSCEEEH&lid=LSTMOBFWBYZXYSCEEEHLGQLJT&marketplace=FLIPKART&q=iphone+12pro&store=tyy%2F4io&srno=s_1_5&otracker=search&fm=organic&iid=a45a0d4f-ddf1-462e-a6b6-fc148d41bd51.MOBFWBYZXYSCEEEH.SEARCH&ppt=None&ppn=None&ssid=rtgjzd0cg00000001677516080686&qH=6685b1477b767c4b\n",
      "https://www.flipkart.com/apple-iphone-12-pro-gold-256-gb/p/itm43a6a8ee7a1e7?pid=MOBFWBYZ9NGKZS9W&lid=LSTMOBFWBYZ9NGKZS9WYZ2SXA&marketplace=FLIPKART&q=iphone+12pro&store=tyy%2F4io&srno=s_1_6&otracker=search&fm=organic&iid=a45a0d4f-ddf1-462e-a6b6-fc148d41bd51.MOBFWBYZ9NGKZS9W.SEARCH&ppt=None&ppn=None&ssid=rtgjzd0cg00000001677516080686&qH=6685b1477b767c4b\n",
      "https://www.flipkart.com/apple-iphone-12-pro-max-pacific-blue-256-gb/p/itm3a0860c94250e?pid=MOBFWBYZ8STJXCVT&lid=LSTMOBFWBYZ8STJXCVTQTZADP&marketplace=FLIPKART&q=iphone+12pro&store=tyy%2F4io&srno=s_1_7&otracker=search&fm=organic&iid=a45a0d4f-ddf1-462e-a6b6-fc148d41bd51.MOBFWBYZ8STJXCVT.SEARCH&ppt=None&ppn=None&ssid=rtgjzd0cg00000001677516080686&qH=6685b1477b767c4b\n",
      "https://www.flipkart.com/apple-iphone-12-pro-graphite-256-gb/p/itm4fa4da575698c?pid=MOBFWBYZBA36UB7G&lid=LSTMOBFWBYZBA36UB7GZYS7EA&marketplace=FLIPKART&q=iphone+12pro&store=tyy%2F4io&srno=s_1_8&otracker=search&fm=organic&iid=a45a0d4f-ddf1-462e-a6b6-fc148d41bd51.MOBFWBYZBA36UB7G.SEARCH&ppt=None&ppn=None&ssid=rtgjzd0cg00000001677516080686&qH=6685b1477b767c4b\n",
      "https://www.flipkart.com/apple-iphone-12-pro-silver-256-gb/p/itm41ac927e82906?pid=MOBFWBYZMZTJZTWK&lid=LSTMOBFWBYZMZTJZTWKDI2TP0&marketplace=FLIPKART&q=iphone+12pro&store=tyy%2F4io&srno=s_1_9&otracker=search&fm=organic&iid=a45a0d4f-ddf1-462e-a6b6-fc148d41bd51.MOBFWBYZMZTJZTWK.SEARCH&ppt=None&ppn=None&ssid=rtgjzd0cg00000001677516080686&qH=6685b1477b767c4b\n",
      "https://www.flipkart.com/apple-iphone-12-pro-silver-128-gb/p/itmaebc8a0edc292?pid=MOBFWBYZSGN526X4&lid=LSTMOBFWBYZSGN526X4XSCKOE&marketplace=FLIPKART&q=iphone+12pro&store=tyy%2F4io&srno=s_1_10&otracker=search&fm=organic&iid=a45a0d4f-ddf1-462e-a6b6-fc148d41bd51.MOBFWBYZSGN526X4.SEARCH&ppt=None&ppn=None&ssid=rtgjzd0cg00000001677516080686&qH=6685b1477b767c4b\n",
      "https://www.flipkart.com/apple-iphone-12-pro-max-silver-512-gb/p/itm5d3d37892544f?pid=MOBFWBYZW38NGPNM&lid=LSTMOBFWBYZW38NGPNMWD1NPD&marketplace=FLIPKART&q=iphone+12pro&store=tyy%2F4io&srno=s_1_11&otracker=search&fm=organic&iid=a45a0d4f-ddf1-462e-a6b6-fc148d41bd51.MOBFWBYZW38NGPNM.SEARCH&ppt=None&ppn=None&ssid=rtgjzd0cg00000001677516080686&qH=6685b1477b767c4b\n",
      "https://www.flipkart.com/apple-iphone-12-pro-max-gold-512-gb/p/itmd164e2fef2871?pid=MOBFWBYZ4AG3FGNW&lid=LSTMOBFWBYZ4AG3FGNWL6UEHL&marketplace=FLIPKART&q=iphone+12pro&store=tyy%2F4io&srno=s_1_12&otracker=search&fm=organic&iid=a45a0d4f-ddf1-462e-a6b6-fc148d41bd51.MOBFWBYZ4AG3FGNW.SEARCH&ppt=None&ppn=None&ssid=rtgjzd0cg00000001677516080686&qH=6685b1477b767c4b\n",
      "https://www.flipkart.com/apple-iphone-12-pro-pacific-blue-256-gb/p/itmea897274baa30?pid=MOBFWBYZVRPH2UCD&lid=LSTMOBFWBYZVRPH2UCDHPQUAR&marketplace=FLIPKART&q=iphone+12pro&store=tyy%2F4io&srno=s_1_13&otracker=search&fm=organic&iid=a45a0d4f-ddf1-462e-a6b6-fc148d41bd51.MOBFWBYZVRPH2UCD.SEARCH&ppt=None&ppn=None&ssid=rtgjzd0cg00000001677516080686&qH=6685b1477b767c4b\n",
      "https://www.flipkart.com/apple-iphone-12-pro-graphite-128-gb/p/itm03e5f2595d843?pid=MOBFWBYZBZ7Y56WD&lid=LSTMOBFWBYZBZ7Y56WDFWEMSD&marketplace=FLIPKART&q=iphone+12pro&store=tyy%2F4io&srno=s_1_14&otracker=search&fm=organic&iid=a45a0d4f-ddf1-462e-a6b6-fc148d41bd51.MOBFWBYZBZ7Y56WD.SEARCH&ppt=None&ppn=None&ssid=rtgjzd0cg00000001677516080686&qH=6685b1477b767c4b\n",
      "https://www.flipkart.com/apple-iphone-12-pro-max-gold-128-gb/p/itme3ae592065711?pid=MOBFWBYZQVKT77YH&lid=LSTMOBFWBYZQVKT77YHP1ERRT&marketplace=FLIPKART&q=iphone+12pro&store=tyy%2F4io&srno=s_1_15&otracker=search&fm=organic&iid=a45a0d4f-ddf1-462e-a6b6-fc148d41bd51.MOBFWBYZQVKT77YH.SEARCH&ppt=None&ppn=None&ssid=rtgjzd0cg00000001677516080686&qH=6685b1477b767c4b\n",
      "https://www.flipkart.com/apple-iphone-12-pro-max-graphite-128-gb/p/itm973c298184f51?pid=MOBFWBYZFDGQSDWS&lid=LSTMOBFWBYZFDGQSDWS6UBAEI&marketplace=FLIPKART&q=iphone+12pro&store=tyy%2F4io&srno=s_1_16&otracker=search&fm=organic&iid=a45a0d4f-ddf1-462e-a6b6-fc148d41bd51.MOBFWBYZFDGQSDWS.SEARCH&ppt=None&ppn=None&ssid=rtgjzd0cg00000001677516080686&qH=6685b1477b767c4b\n",
      "https://www.flipkart.com/apple-iphone-12-pro-max-graphite-512-gb/p/itm52a5e8e630441?pid=MOBFWBYZZZ6DWWFZ&lid=LSTMOBFWBYZZZ6DWWFZJWJVPK&marketplace=FLIPKART&q=iphone+12pro&store=tyy%2F4io&srno=s_1_17&otracker=search&fm=organic&iid=a45a0d4f-ddf1-462e-a6b6-fc148d41bd51.MOBFWBYZZZ6DWWFZ.SEARCH&ppt=None&ppn=None&ssid=rtgjzd0cg00000001677516080686&qH=6685b1477b767c4b\n",
      "https://www.flipkart.com/apple-iphone-12-pro-max-silver-128-gb/p/itm5a51ba742a17e?pid=MOBFWBYZNSNVGGZC&lid=LSTMOBFWBYZNSNVGGZCTPGZZU&marketplace=FLIPKART&q=iphone+12pro&store=tyy%2F4io&srno=s_1_18&otracker=search&fm=organic&iid=a45a0d4f-ddf1-462e-a6b6-fc148d41bd51.MOBFWBYZNSNVGGZC.SEARCH&ppt=None&ppn=None&ssid=rtgjzd0cg00000001677516080686&qH=6685b1477b767c4b\n",
      "https://www.flipkart.com/apple-iphone-12-pro-max-silver-256-gb/p/itm30faf74442adb?pid=MOBFWBYZZH4AM8FE&lid=LSTMOBFWBYZZH4AM8FETYFBOG&marketplace=FLIPKART&q=iphone+12pro&store=tyy%2F4io&srno=s_1_19&otracker=search&fm=organic&iid=a45a0d4f-ddf1-462e-a6b6-fc148d41bd51.MOBFWBYZZH4AM8FE.SEARCH&ppt=None&ppn=None&ssid=rtgjzd0cg00000001677516080686&qH=6685b1477b767c4b\n",
      "https://www.flipkart.com/apple-iphone-12-pro-max-graphite-256-gb/p/itm8dbdf0b986725?pid=MOBFWBYZEF6XQ5ZW&lid=LSTMOBFWBYZEF6XQ5ZWBZ3ZKD&marketplace=FLIPKART&q=iphone+12pro&store=tyy%2F4io&srno=s_1_20&otracker=search&fm=organic&iid=a45a0d4f-ddf1-462e-a6b6-fc148d41bd51.MOBFWBYZEF6XQ5ZW.SEARCH&ppt=None&ppn=None&ssid=rtgjzd0cg00000001677516080686&qH=6685b1477b767c4b\n",
      "https://www.flipkart.com/apple-iphone-12-pro-max-pacific-blue-128-gb/p/itmd89812b558a03?pid=MOBFWBYZZABKHZQA&lid=LSTMOBFWBYZZABKHZQATE6G93&marketplace=FLIPKART&q=iphone+12pro&store=tyy%2F4io&srno=s_1_21&otracker=search&fm=organic&iid=a45a0d4f-ddf1-462e-a6b6-fc148d41bd51.MOBFWBYZZABKHZQA.SEARCH&ppt=None&ppn=None&ssid=rtgjzd0cg00000001677516080686&qH=6685b1477b767c4b\n",
      "https://www.flipkart.com/apple-iphone-12-pro-pacific-blue-512-gb/p/itm8a39d6779b04e?pid=MOBFWBYZTHSXKMGW&lid=LSTMOBFWBYZTHSXKMGWYPOFI5&marketplace=FLIPKART&q=iphone+12pro&store=tyy%2F4io&srno=s_1_22&otracker=search&fm=organic&iid=a45a0d4f-ddf1-462e-a6b6-fc148d41bd51.MOBFWBYZTHSXKMGW.SEARCH&ppt=None&ppn=None&ssid=rtgjzd0cg00000001677516080686&qH=6685b1477b767c4b\n",
      "https://www.flipkart.com/apple-iphone-12-pro-max-pacific-blue-512-gb/p/itme005d7afeb4a3?pid=MOBFWBYZPW4KW4XX&lid=LSTMOBFWBYZPW4KW4XXXYHC14&marketplace=FLIPKART&q=iphone+12pro&store=tyy%2F4io&srno=s_1_23&otracker=search&fm=organic&iid=a45a0d4f-ddf1-462e-a6b6-fc148d41bd51.MOBFWBYZPW4KW4XX.SEARCH&ppt=None&ppn=None&ssid=rtgjzd0cg00000001677516080686&qH=6685b1477b767c4b\n",
      "https://www.flipkart.com/apple-iphone-12-pro-max-gold-256-gb/p/itm1e0354f5bbc8c?pid=MOBFWBYZZPW8JHQF&lid=LSTMOBFWBYZZPW8JHQFVJR3PO&marketplace=FLIPKART&q=iphone+12pro&store=tyy%2F4io&srno=s_1_24&otracker=search&fm=organic&iid=a45a0d4f-ddf1-462e-a6b6-fc148d41bd51.MOBFWBYZZPW8JHQF.SEARCH&ppt=None&ppn=None&ssid=rtgjzd0cg00000001677516080686&qH=6685b1477b767c4b\n"
     ]
    },
    {
     "ename": "AttributeError",
     "evalue": "'NoneType' object has no attribute 'a'",
     "output_type": "error",
     "traceback": [
      "\u001b[0;31m---------------------------------------------------------------------------\u001b[0m",
      "\u001b[0;31mAttributeError\u001b[0m                            Traceback (most recent call last)",
      "Cell \u001b[0;32mIn[44], line 2\u001b[0m\n\u001b[1;32m      1\u001b[0m \u001b[38;5;28;01mfor\u001b[39;00m i \u001b[38;5;129;01min\u001b[39;00m bigbox:\n\u001b[0;32m----> 2\u001b[0m     \u001b[38;5;28mprint\u001b[39m(\u001b[38;5;124m\"\u001b[39m\u001b[38;5;124mhttps://www.flipkart.com\u001b[39m\u001b[38;5;124m\"\u001b[39m \u001b[38;5;241m+\u001b[39m\u001b[43mi\u001b[49m\u001b[38;5;241;43m.\u001b[39;49m\u001b[43mdiv\u001b[49m\u001b[38;5;241;43m.\u001b[39;49m\u001b[43mdiv\u001b[49m\u001b[38;5;241;43m.\u001b[39;49m\u001b[43mdiv\u001b[49m\u001b[38;5;241;43m.\u001b[39;49m\u001b[43ma\u001b[49m[\u001b[38;5;124m'\u001b[39m\u001b[38;5;124mhref\u001b[39m\u001b[38;5;124m'\u001b[39m])\n",
      "\u001b[0;31mAttributeError\u001b[0m: 'NoneType' object has no attribute 'a'"
     ]
    }
   ],
   "source": [
    "for i in bigbox:\n",
    "    print(\"https://www.flipkart.com\" +i.div.div.div.a['href'])"
   ]
  },
  {
   "cell_type": "code",
   "execution_count": null,
   "id": "0181f015-0319-41b3-917d-9ca0b835e960",
   "metadata": {},
   "outputs": [],
   "source": []
  }
 ],
 "metadata": {
  "kernelspec": {
   "display_name": "Python 3 (ipykernel)",
   "language": "python",
   "name": "python3"
  },
  "language_info": {
   "codemirror_mode": {
    "name": "ipython",
    "version": 3
   },
   "file_extension": ".py",
   "mimetype": "text/x-python",
   "name": "python",
   "nbconvert_exporter": "python",
   "pygments_lexer": "ipython3",
   "version": "3.10.8"
  }
 },
 "nbformat": 4,
 "nbformat_minor": 5
}
