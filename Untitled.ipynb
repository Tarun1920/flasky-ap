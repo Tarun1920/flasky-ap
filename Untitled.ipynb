{
 "cells": [
  {
   "cell_type": "code",
   "execution_count": 8,
   "id": "77c69594-020c-43ae-b216-e21ea3c36fc2",
   "metadata": {},
   "outputs": [],
   "source": [
    "import requests\n",
    "from bs4 import BeautifulSoup\n",
    "from urllib.request import urlopen as uReq\n",
    "import logging \n",
    "#import pymongo\n",
    "import os"
   ]
  },
  {
   "cell_type": "code",
   "execution_count": 9,
   "id": "0d42601d-93a3-4fc1-911f-4223cf6fb806",
   "metadata": {},
   "outputs": [],
   "source": [
    "save_dir = \"images/\"\n",
    "if not os.path .exists(save_dir):\n",
    "    os.makedirs(save_dir)"
   ]
  },
  {
   "cell_type": "code",
   "execution_count": 10,
   "id": "4e2e6fb4-c1dd-456f-a488-f4d199652ead",
   "metadata": {},
   "outputs": [],
   "source": [
    "headers= {\"user-agent\" : \"Mozilla/5.0(windows NT 10.0; win 64; x64)AppleWebkit/537.36(KHTML,like Gecko)chrome/58.0.3029.110\"}"
   ]
  },
  {
   "cell_type": "code",
   "execution_count": 11,
   "id": "9db29a95-3b68-4e1d-b1ba-eeed50105fd5",
   "metadata": {},
   "outputs": [],
   "source": [
    "query = \"sudhanshu kumar\"\n",
    "response = requests.get(f\"https://www.google.com/search?q={query}&rlz=1C1YTUH_enIN1030IN1030&sxsrf=AJOqlzWrsb5pykOp-TbPSUwNNeTrDQOi9Q:1677609072402&source=lnms&tbm=isch&sa=X&ved=2ahUKEwjqjNTm7Lj9AhX8nFYBHTb1A04Q_AUoAnoECAEQBA&biw=1366&bih=635&dpr=1\")"
   ]
  },
  {
   "cell_type": "code",
   "execution_count": 12,
   "id": "f17b6b76-5396-414d-855b-e5415aa50724",
   "metadata": {},
   "outputs": [],
   "source": [
    "soup = BeautifulSoup(response.content,'html.parser')"
   ]
  },
  {
   "cell_type": "code",
   "execution_count": 13,
   "id": "49bf10a7-283f-4eb1-ad5f-bb67a790db20",
   "metadata": {},
   "outputs": [],
   "source": [
    "images_tags = soup.find_all(\"img\")"
   ]
  },
  {
   "cell_type": "code",
   "execution_count": 14,
   "id": "3785cb72-6bc0-4fdc-a0f0-14ec85f84ae8",
   "metadata": {},
   "outputs": [
    {
     "data": {
      "text/plain": [
       "21"
      ]
     },
     "execution_count": 14,
     "metadata": {},
     "output_type": "execute_result"
    }
   ],
   "source": [
    "len(images_tags)"
   ]
  },
  {
   "cell_type": "code",
   "execution_count": 15,
   "id": "f4e1efe1-ac95-489c-be3a-49c8dda887d6",
   "metadata": {},
   "outputs": [],
   "source": [
    "del images_tags[0]"
   ]
  },
  {
   "cell_type": "code",
   "execution_count": 17,
   "id": "ea7df873-9ac1-4878-857e-aef83e068d3d",
   "metadata": {},
   "outputs": [],
   "source": [
    "img_data_mongo = []\n",
    "for i in images_tags:\n",
    "    image_url = i['src']\n",
    "    image_data = requests.get(image_url).content\n",
    "    mydict = {\"index\": image_url,\"image\":image_data}\n",
    "    img_data_mongo.append(mydict)\n",
    "    with open(os.path.join(save_dir,f\"{query}_{images_tags.index(i)}.jpg\"),\"wb\") as f:\n",
    "        f.write(image_data)\n",
    "\n",
    "client = pymongo.MongoClient(\"mongodb+srv://pwskills:<password>@cluster0.cf18i9y.mongodb.net/?retryWrites=true&w=majority\")\n",
    "d\n",
    "coll_image.insert_many(img_data_mongo)\n",
    "        \n",
    "    "
   ]
  },
  {
   "cell_type": "code",
   "execution_count": null,
   "id": "0da8645d-e1f1-4837-a8f8-764a03c9bec2",
   "metadata": {},
   "outputs": [],
   "source": []
  }
 ],
 "metadata": {
  "kernelspec": {
   "display_name": "Python 3 (ipykernel)",
   "language": "python",
   "name": "python3"
  },
  "language_info": {
   "codemirror_mode": {
    "name": "ipython",
    "version": 3
   },
   "file_extension": ".py",
   "mimetype": "text/x-python",
   "name": "python",
   "nbconvert_exporter": "python",
   "pygments_lexer": "ipython3",
   "version": "3.10.8"
  },
  "toc-showtags": true
 },
 "nbformat": 4,
 "nbformat_minor": 5
}
